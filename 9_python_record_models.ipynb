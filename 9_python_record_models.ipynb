{
 "cells": [
  {
   "cell_type": "markdown",
   "source": [
    "[![Open In Colab](https://colab.research.google.com/assets/colab-badge.svg)](https://colab.research.google.com/github/sapiosciences/sapio-py-tutorials/blob/master/9_python_record_models.ipynb)"
   ],
   "metadata": {
    "collapsed": false
   }
  },
  {
   "cell_type": "code",
   "execution_count": 1,
   "metadata": {
    "collapsed": true
   },
   "outputs": [],
   "source": [
    "from sapiopylib.rest.DataMgmtService import DataMgmtServer\n",
    "from sapiopylib.rest.DataRecordManagerService import DataRecordManager\n",
    "from sapiopylib.rest.User import SapioUser\n",
    "from sapiopylib.rest.utils.recordmodel.PyRecordModel import PyRecordModel\n",
    "from sapiopylib.rest.utils.recordmodel.RecordModelManager import RecordModelManager, RecordModelInstanceManager, \\\n",
    "    RecordModelRelationshipManager\n",
    "\n",
    "user = SapioUser(url=\"https://linux-vm:8443/webservice/api\", verify_ssl_cert=False,\n",
    "                 guid=\"3c232543-f407-4828-aae5-b33d4cd31fa7\",\n",
    "                 username=\"yqiao_api\", password=\"Password1!\")\n",
    "dataRecordManager: DataRecordManager = DataMgmtServer.get_data_record_manager(user)"
   ]
  },
  {
   "cell_type": "markdown",
   "source": [
    "Record model has been added to Sapio Commons library for a few years. This library module supported our Sapio plugin development, so that developers no longer need to pay as much attention to batching requests and can maintain a local state in which they can manipulate the data more easily.\n",
    "\n",
    "The Python Record Model module is implemented to share the same design goals that we had in Java version of record models. It is capable of doing the following:\n",
    "\n",
    "\n",
    "*   Create new records.\n",
    "*   Manipulate existing records.\n",
    "*   Create and remove parent-child links.\n",
    "*   Maintains a record cache for all records and all links locally in Python client.\n",
    "*   Extensible support for custom event handlers to fire at record creation/modification/link modification/store or rollback.\n",
    "\n",
    "Let's get started! First, we will try to instantiate Python Record Models."
   ],
   "metadata": {
    "collapsed": false
   }
  },
  {
   "cell_type": "code",
   "execution_count": 2,
   "outputs": [],
   "source": [
    "rec_man: RecordModelManager = RecordModelManager(user)\n",
    "inst_man: RecordModelInstanceManager = rec_man.instance_manager\n",
    "relationship_man: RecordModelRelationshipManager = rec_man.relationship_manager"
   ],
   "metadata": {
    "collapsed": false
   }
  },
  {
   "cell_type": "markdown",
   "source": [
    "It is important to discuss how this instance was constructed.\n",
    "\n",
    "Python Record Model is a caching system, and therefore maintaining a cache for the user without deleting the cache is important for data integrity and performance.\n",
    "\n",
    "When this call is executed:\n",
    "```\n",
    "rec_man: RecordModelManager = RecordModelManager(user)\n",
    "```\n",
    "The module will first test whether there is an existing record model manager already created for this User instance. If an existing instance has been constructed before for this User instance, this module will not build a new Record Model Manager, but instead retrieve the existing one that is tied with this User instance.\n",
    "In other words, the record model cache is singleton per user context.\n",
    "\n",
    "Let's test what this actually means..."
   ],
   "metadata": {
    "collapsed": false
   }
  },
  {
   "cell_type": "code",
   "execution_count": 3,
   "outputs": [
    {
     "name": "stdout",
     "output_type": "stream",
     "text": [
      "<sapiopylib.rest.utils.recordmodel.RecordModelManager.RecordModelManager object at 0x7f4db9bbf220>\n",
      "<sapiopylib.rest.utils.recordmodel.PyRecordModel.PyRecordModel object at 0x7f4db9bbfb20>\n",
      "<sapiopylib.rest.utils.recordmodel.RecordModelManager.RecordModelManager object at 0x7f4db9bbf220>\n",
      "<sapiopylib.rest.utils.recordmodel.PyRecordModel.PyRecordModel object at 0x7f4db9bbfb20>\n"
     ]
    },
    {
     "name": "stderr",
     "output_type": "stream",
     "text": [
      "/home/yqiao/anaconda3/envs/RDKit/lib/python3.10/site-packages/urllib3/connectionpool.py:1045: InsecureRequestWarning: Unverified HTTPS request is being made to host 'linux-vm'. Adding certificate verification is strongly advised. See: https://urllib3.readthedocs.io/en/1.26.x/advanced-usage.html#ssl-warnings\n",
      "  warnings.warn(\n"
     ]
    }
   ],
   "source": [
    "sample_record = inst_man.add_new_record('Sample')\n",
    "sample_record.set_field_value('OtherSampleId', 'PyRecordModel Test')\n",
    "sample_record.set_field_value('ExemplarSampleType', 'DNA')\n",
    "print(rec_man)\n",
    "print(sample_record)\n",
    "\n",
    "rec_man: RecordModelManager = RecordModelManager(user)\n",
    "inst_man: RecordModelInstanceManager = rec_man.instance_manager\n",
    "sample_record = inst_man.get_known_record_with_record_id(sample_record.record_id)\n",
    "print(rec_man)\n",
    "print(sample_record)"
   ],
   "metadata": {
    "collapsed": false
   }
  },
  {
   "cell_type": "markdown",
   "source": [
    "As you can see, it does not matter that I created a sample record, then reconstructed the record model manager. The actual cache as well as the record model manager reference are exactly the same.\n",
    "\n",
    "Furthermore, you may also notice, the created sample record is not written yet to Sapio. If you try to search for this new sample, it does not exist. This is intentional, as we require user to explicitly call a \"store and commit\" method from record model manager before the data is transferred to Sapio for performance reasons.\n",
    "\n",
    "Before running this example, create a location called \"Default Location\", make a child department with any other name than \"Mice Research\".\n",
    "Let's complete this entire example for the first round. In this example, I will be searching for a location named \"Default Location\". I will rename this location to \"My Location.\n",
    "At the same time, I will create a new Department record, named \"Mice Research\", I will insert this sample, plus another sample, under the \"Mice Research\"."
   ],
   "metadata": {
    "collapsed": false
   }
  },
  {
   "cell_type": "code",
   "execution_count": 4,
   "outputs": [
    {
     "name": "stderr",
     "output_type": "stream",
     "text": [
      "/home/yqiao/anaconda3/envs/RDKit/lib/python3.10/site-packages/urllib3/connectionpool.py:1045: InsecureRequestWarning: Unverified HTTPS request is being made to host 'linux-vm'. Adding certificate verification is strongly advised. See: https://urllib3.readthedocs.io/en/1.26.x/advanced-usage.html#ssl-warnings\n",
      "  warnings.warn(\n"
     ]
    },
    {
     "name": "stdout",
     "output_type": "stream",
     "text": [
      "Backing location record's location: Default Location\n",
      "Record model's location name: My Location\n"
     ]
    },
    {
     "name": "stderr",
     "output_type": "stream",
     "text": [
      "/home/yqiao/anaconda3/envs/RDKit/lib/python3.10/site-packages/urllib3/connectionpool.py:1045: InsecureRequestWarning: Unverified HTTPS request is being made to host 'linux-vm'. Adding certificate verification is strongly advised. See: https://urllib3.readthedocs.io/en/1.26.x/advanced-usage.html#ssl-warnings\n",
      "  warnings.warn(\n"
     ]
    }
   ],
   "source": [
    "# We first query the location with name 'Default Location', we assume this exists and no error handling here.\n",
    "default_location_record = dataRecordManager.query_data_records('VeloxLocation',\n",
    "                                                               'LocationName', ['Default Location']).result_list[0]\n",
    "\n",
    "# We wrap this data record into a record model. In this case, we will use \"add existing record\" case which converts a DataRecord object into a PyRecordModel with a reference to the backing data record.\n",
    "default_location: PyRecordModel = inst_man.add_existing_record(default_location_record)\n",
    "# We change the value for default_location. Notice how the backing data record's field value has not yet changed.\n",
    "default_location.set_field_value('LocationName', 'My Location')\n",
    "print(\"Backing location record's location: \" + default_location.get_data_record().get_field_value('LocationName'))\n",
    "print(\"Record model's location name: \" + default_location.get_field_value('LocationName'))\n",
    "\n",
    "# Create a new department record model, directly without using a DataRecord backing it like we did before for sample.\n",
    "mice_research_dept: PyRecordModel = inst_man.add_new_record('VeloxDepartment')\n",
    "mice_research_dept.set_field_value('DepartmentName', 'Mice Research')\n",
    "# Add this new department as a child record to location (in our record model cache)\n",
    "default_location.add_child(mice_research_dept)\n",
    "\n",
    "mice_research_dept.add_child(sample_record)\n",
    "sample_record2 = inst_man.add_new_record('Sample')\n",
    "sample_record2.set_field_value('OtherSampleId', 'PyRecordModel Test')\n",
    "sample_record2.set_field_value('ExemplarSampleType', 'Urine')\n",
    "mice_research_dept.add_child(sample_record2)"
   ],
   "metadata": {
    "collapsed": false
   }
  },
  {
   "cell_type": "markdown",
   "source": [
    "About obtaining relationship info: You can only obtain relationships either if you have already loaded relationship previously using the relationship manager, or if the record is new (or deleted)\n",
    "\n",
    "Attempting to load an existing record's relationship without first calling the load request will throw an exception. However, you can do so for new records you have created.\n",
    "\n",
    "The relationship of parent-child is reflective, so you can query both ways, for both new and existing relationships.\n",
    "\n",
    "When you added relationship on top of relationships already exists, you will obtain the cached view of relationship with all changes reflected in the final list."
   ],
   "metadata": {
    "collapsed": false
   }
  },
  {
   "cell_type": "code",
   "execution_count": 5,
   "outputs": [
    {
     "name": "stdout",
     "output_type": "stream",
     "text": [
      "Record Model with Record ID 90: Child type VeloxDepartment was not loaded.\n",
      "Number of departments under Default Location: 2\n",
      "Number of samples under new Department: 2\n",
      "Number of departments above Sample: 1\n"
     ]
    },
    {
     "name": "stderr",
     "output_type": "stream",
     "text": [
      "/home/yqiao/anaconda3/envs/RDKit/lib/python3.10/site-packages/urllib3/connectionpool.py:1045: InsecureRequestWarning: Unverified HTTPS request is being made to host 'linux-vm'. Adding certificate verification is strongly advised. See: https://urllib3.readthedocs.io/en/1.26.x/advanced-usage.html#ssl-warnings\n",
      "  warnings.warn(\n"
     ]
    }
   ],
   "source": [
    "from typing import List\n",
    "from sapiopylib.rest.utils.recordmodel.PyRecordModel import SapioRecordModelException\n",
    "\n",
    "try:\n",
    "    default_location.get_children_of_type('VeloxDepartment')\n",
    "except SapioRecordModelException as e:\n",
    "    print(str(e))\n",
    "\n",
    "relationship_man.load_children([default_location], 'VeloxDepartment')\n",
    "print(\"Number of departments under Default Location: \" + str(len(default_location.get_children_of_type('VeloxDepartment'))))\n",
    "\n",
    "samples_under_dept: List[PyRecordModel] = mice_research_dept.get_children_of_type('Sample')\n",
    "print(\"Number of samples under new Department: \" +\n",
    "      str(len(samples_under_dept)))\n",
    "\n",
    "departments_above_sample: List[PyRecordModel] = sample_record.get_parents_of_type('VeloxDepartment')\n",
    "print(\"Number of departments above Sample: \" +\n",
    "      str(len(departments_above_sample)))"
   ],
   "metadata": {
    "collapsed": false
   }
  },
  {
   "cell_type": "markdown",
   "source": [
    "Finally, we can make the changes permanent after we want to store these changes."
   ],
   "metadata": {
    "collapsed": false
   }
  },
  {
   "cell_type": "code",
   "execution_count": 6,
   "outputs": [
    {
     "name": "stderr",
     "output_type": "stream",
     "text": [
      "/home/yqiao/anaconda3/envs/RDKit/lib/python3.10/site-packages/urllib3/connectionpool.py:1045: InsecureRequestWarning: Unverified HTTPS request is being made to host 'linux-vm'. Adding certificate verification is strongly advised. See: https://urllib3.readthedocs.io/en/1.26.x/advanced-usage.html#ssl-warnings\n",
      "  warnings.warn(\n"
     ]
    }
   ],
   "source": [
    "rec_man.store_and_commit()"
   ],
   "metadata": {
    "collapsed": false
   }
  }
 ],
 "metadata": {
  "kernelspec": {
   "display_name": "Python 3",
   "language": "python",
   "name": "python3"
  },
  "language_info": {
   "codemirror_mode": {
    "name": "ipython",
    "version": 2
   },
   "file_extension": ".py",
   "mimetype": "text/x-python",
   "name": "python",
   "nbconvert_exporter": "python",
   "pygments_lexer": "ipython2",
   "version": "2.7.6"
  }
 },
 "nbformat": 4,
 "nbformat_minor": 0
}
