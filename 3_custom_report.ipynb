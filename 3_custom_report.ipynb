{
  "cells": [
    {
      "cell_type": "markdown",
      "source": [
        "[![Open In Colab](https://colab.research.google.com/assets/colab-badge.svg)](https://colab.research.google.com/github/sapiosciences/sapio-py-tutorials/blob/master/3_custom_report.ipynb)"
      ],
      "metadata": {
        "collapsed": false,
        "id": "LPVoDH0TVWXu"
      }
    },
    {
      "cell_type": "code",
      "execution_count": null,
      "metadata": {
        "collapsed": true,
        "id": "H5f_XxaHVWXx"
      },
      "outputs": [],
      "source": [
        "from sapiopylib.rest.User import SapioUser\n",
        "from sapiopylib.rest.DataMgmtService import DataMgmtServer\n",
        "from sapiopylib.rest.pojo.CustomReport import *\n",
        "from IPython.display import display, HTML\n",
        "import pandas as pd\n",
        "pd.set_option('display.max_columns', 100)\n",
        "\n",
        "user = SapioUser(url=\"https://linux-vm:8443/webservice/api\",\n",
        "                 guid=\"3c232543-f407-4828-aae5-b33d4cd31fa7\", account_name=\"sapio\",\n",
        "                 username=\"pyRestTest\", password=\"Password1!\", verify_ssl_cert=False)\n",
        "customReportManager = DataMgmtServer.get_custom_report_manager(user)"
      ]
    },
    {
      "cell_type": "markdown",
      "source": [
        "# Custom Report (Advanced Search) API\n",
        "Custom Report API offers a way for users to send complex queries about data records across a hierarchy.\n",
        "\n",
        "\"Custom Report\" is the API term we use to describe the \"Advanced Search\" feature we present to user through the UI.\n",
        "\n",
        "# Quick Report (Single Term)\n",
        "\n",
        "In the first example, we will run a quick report, which is consisted with only a single term about a data record.\n",
        "We will find all samples with sample type 'Blood' in the system, but only for the first 100 samples in the system.\n",
        "\n",
        "We can obtain the data frame from report result, so it can be organized as pandas data frame and display it.\n",
        "\n",
        "*In order for paging to actually work, you need to specify both the page size and the page number. Omitting page number causes report to return unpaged.*"
      ],
      "metadata": {
        "collapsed": false,
        "id": "5mWo5RUkVWXy"
      }
    },
    {
      "cell_type": "code",
      "execution_count": null,
      "outputs": [],
      "source": [
        "root_term = RawReportTerm('Sample', 'ExemplarSampleType', RawTermOperation.EQUAL_TO_OPERATOR, 'Blood', is_negated=True)\n",
        "report = customReportManager.run_quick_report(root_term, page_size=100, page_number=0)\n",
        "data_frame = report.get_data_frame()\n",
        "display(data_frame)"
      ],
      "metadata": {
        "id": "tsyInoMDVWXz"
      }
    },
    {
      "cell_type": "markdown",
      "source": [
        "# Full Custom Report (Multiple Terms)\n",
        "In a more advanced report, you may want to enter multiple conditions, across a hierarchy of records.\n",
        "\n",
        "Here's a way to get all attachments under a location '205 N George St'\n",
        "\n",
        "Note: you need to feed in a root term to the report term parameter. The terms under the root must form a binary tree. Any terms not connected with the root will not participate in the search.\n",
        "\n",
        "Furthermore, in order for a data type to be part of a search, you must specify at least a term, even if "
      ],
      "metadata": {
        "collapsed": false,
        "id": "Ax0UvqVNVWXz"
      }
    },
    {
      "cell_type": "code",
      "execution_count": null,
      "outputs": [],
      "source": [
        "term1 = RawReportTerm('VeloxLocation', 'LocationName', RawTermOperation.EQUAL_TO_OPERATOR, '205 N George St')\n",
        "term2 = RawReportTerm('Attachment', 'RecordId', RawTermOperation.GREATER_THAN_OR_EQUAL_OPERATOR, '0')\n",
        "root_term = CompositeReportTerm(term1, CompositeTermOperation.AND_OPERATOR, term2)\n",
        "column_list = [ReportColumn('Attachment', 'FilePath', FieldType.STRING), ReportColumn('Attachment', 'RecordId', FieldType.LONG)]\n",
        "request = CustomReportCriteria(column_list, root_term, page_size=1, page_number=0)\n",
        "report = customReportManager.run_custom_report(request)\n",
        "data_frame = report.get_data_frame()\n",
        "display(data_frame)"
      ],
      "metadata": {
        "id": "325ZQYGiVWXz"
      }
    },
    {
      "cell_type": "markdown",
      "source": [
        "# Inner Join, Hierarchally Unrelated Records\n",
        "In Sapio 22.10, we can add **explicit joins** to records of types that are **not hierarchically related**.\n",
        "\n",
        "In this case, let's find the sample's receipt status along with the occupancy info of the storage unit the sample \"00001\" is under.\n",
        "\n",
        "Observe that in *ExplicitJoinDefinition*, the data type name outside of the join term must be set to the **Unrelated Data Type Name** in the report. In this case, storage units are not related to either sample or sample receipt via a hierarchy."
      ],
      "metadata": {
        "collapsed": false,
        "id": "OVj_IsKVVWX0"
      }
    },
    {
      "cell_type": "code",
      "execution_count": null,
      "outputs": [],
      "source": [
        "sample_term = RawReportTerm('Sample', 'SampleId', RawTermOperation.EQUAL_TO_OPERATOR, '00001')\n",
        "receipt_term = RawReportTerm('SampleReceipt', 'RecordId', RawTermOperation.GREATER_THAN_OPERATOR, '0')\n",
        "root_term = CompositeReportTerm(sample_term, CompositeTermOperation.AND_OPERATOR, receipt_term)\n",
        "storage_join_term = FieldCompareReportTerm('Sample', 'StorageLocationBarcode', RawTermOperation.EQUAL_TO_OPERATOR, 'StorageUnit', 'StorageUnitId')\n",
        "column_list = [ReportColumn('Sample', 'SampleId', FieldType.STRING), ReportColumn('SampleReceipt', 'SampleReceivedRejected', FieldType.PICKLIST),\n",
        "               ReportColumn('StorageUnit', 'OccupiedCount', FieldType.LONG), ReportColumn('StorageUnit', 'StorageUnitCapacity', FieldType.LONG)]\n",
        "request = CustomReportCriteria(column_list=column_list, root_term=root_term, join_list=[ExplicitJoinDefinition('StorageUnit', storage_join_term)])\n",
        "report = customReportManager.run_custom_report(request)\n",
        "data_frame = report.get_data_frame()\n",
        "display(data_frame)"
      ],
      "metadata": {
        "id": "IzRG7ir6VWX1"
      }
    }
  ],
  "metadata": {
    "kernelspec": {
      "display_name": "Python 3",
      "language": "python",
      "name": "python3"
    },
    "language_info": {
      "codemirror_mode": {
        "name": "ipython",
        "version": 2
      },
      "file_extension": ".py",
      "mimetype": "text/x-python",
      "name": "python",
      "nbconvert_exporter": "python",
      "pygments_lexer": "ipython2",
      "version": "2.7.6"
    },
    "colab": {
      "provenance": []
    }
  },
  "nbformat": 4,
  "nbformat_minor": 0
}