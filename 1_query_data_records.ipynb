{
 "cells": [
  {
   "cell_type": "code",
   "execution_count": 1,
   "outputs": [],
   "source": [
    "from sapiopylib.rest.User import SapioUser\n",
    "from sapiopylib.rest.DataRecordManagerService import DataRecordPojo\n",
    "from sapiopylib.rest.DataRecordManagerService import DataRecordPojoPageCriteria\n",
    "from sapiopylib.rest.DataMgmtService import DataMgmtServer\n",
    "from sapiopylib.rest.DataRecordManagerService import DataRecordPojoHierarchyPageCriteria\n",
    "\n",
    "user = SapioUser(url=\"https://linux-vm:8443/webservice/api\",\n",
    "                               guid=\"60916c2e-fe12-4d71-b7e6-f5a9e9b4d282\", account_name=\"sapio\",\n",
    "                               username=\"pyRestTest\", password=\"password1\", verify_ssl_cert=False)\n",
    "dataRecordManager = DataMgmtServer.get_data_record_manager(user)"
   ],
   "metadata": {
    "collapsed": false,
    "pycharm": {
     "name": "#%%\n"
    }
   }
  },
  {
   "cell_type": "markdown",
   "source": [
    "We just created a new connection! In this case, we are not using api-token but rather we are specifying the guid, username, password instead.\n",
    "\n",
    "Now let's try to query for record ID = 1\n",
    "\n",
    "We set Verify SSL to false because it's a SELF SIGNED CERT."
   ],
   "metadata": {
    "collapsed": false,
    "pycharm": {
     "name": "#%% md\n"
    }
   }
  },
  {
   "cell_type": "code",
   "execution_count": 2,
   "outputs": [
    {
     "name": "stdout",
     "output_type": "stream",
     "text": [
      "1\n",
      "{'CreatedBy': 'exemplar', 'DataRecordName': 'Root Directory', 'RelatedRecord3': None, 'RelatedRecord111': None, 'RelatedRecord110': None, 'VeloxLastModifiedDate': 1660833587844, 'VeloxLastModifiedBy': 'yqiao', 'DateCreated': 1659019678095, 'RecordId': 1, 'DirectoryName': 'Root Directory'}\n"
     ]
    },
    {
     "name": "stderr",
     "output_type": "stream",
     "text": [
      "/home/yqiao/anaconda3/envs/RDKit/lib/python3.10/site-packages/urllib3/connectionpool.py:1045: InsecureRequestWarning: Unverified HTTPS request is being made to host 'linux-vm'. Adding certificate verification is strongly advised. See: https://urllib3.readthedocs.io/en/1.26.x/advanced-usage.html#ssl-warnings\n",
      "  warnings.warn(\n"
     ]
    }
   ],
   "source": [
    "result = dataRecordManager.query_data_records_by_id(\"Directory\", [1])\n",
    "if len(result.result_list) > 0:\n",
    "    result_list: list = result.result_list\n",
    "    element: DataRecordPojo = result_list[0]\n",
    "    print(element.get_record_id())\n",
    "    print(element.get_fields())"
   ],
   "metadata": {
    "collapsed": false,
    "pycharm": {
     "name": "#%%\n"
    }
   }
  },
  {
   "cell_type": "markdown",
   "source": [
    "In example above, we query a directory whose record ID is 1 (which by the way is the root directory. We print the record ID and the fields of the record.\n",
    "Alternatively, you can direct print a DataRecordPojo object or a page's result directly. It will show the data record name of these data records.\n"
   ],
   "metadata": {
    "collapsed": false,
    "pycharm": {
     "name": "#%% md\n"
    }
   }
  },
  {
   "cell_type": "code",
   "execution_count": 3,
   "outputs": [
    {
     "name": "stdout",
     "output_type": "stream",
     "text": [
      "000007 export_COVID19 samples 23_04_20_ST3_COVID19_ICU_003_A...\n"
     ]
    },
    {
     "name": "stderr",
     "output_type": "stream",
     "text": [
      "/home/yqiao/anaconda3/envs/RDKit/lib/python3.10/site-packages/urllib3/connectionpool.py:1045: InsecureRequestWarning: Unverified HTTPS request is being made to host 'linux-vm'. Adding certificate verification is strongly advised. See: https://urllib3.readthedocs.io/en/1.26.x/advanced-usage.html#ssl-warnings\n",
      "  warnings.warn(\n"
     ]
    }
   ],
   "source": [
    "result = dataRecordManager.query_data_records(\"Sample\", \"SampleId\", [\"000007\"])\n",
    "print(result)"
   ],
   "metadata": {
    "collapsed": false,
    "pycharm": {
     "name": "#%%\n"
    }
   }
  },
  {
   "cell_type": "markdown",
   "source": [
    "Paging is available. In the next example we are going to get samples, 10 samples per page for 3 pages."
   ],
   "metadata": {
    "collapsed": false,
    "pycharm": {
     "name": "#%% md\n"
    }
   }
  },
  {
   "cell_type": "code",
   "execution_count": 4,
   "outputs": [
    {
     "name": "stdout",
     "output_type": "stream",
     "text": [
      "Page 1: 000004, 000005, 000006, 000007 export_COVID19 samples 23_04_20_ST3_COVID19_ICU_003_A..., PyWebDemo-13, PyWebDemo-14, PyWebDemo-15, PyWebDemo-16, PyWebDemo-19, PyWebDemo-20[More Pages...]\n",
      "Page 2: PyWebDemo-23, PyWebDemo-24, 000008, 000009, 000010, 000011, 000012\n"
     ]
    },
    {
     "name": "stderr",
     "output_type": "stream",
     "text": [
      "/home/yqiao/anaconda3/envs/RDKit/lib/python3.10/site-packages/urllib3/connectionpool.py:1045: InsecureRequestWarning: Unverified HTTPS request is being made to host 'linux-vm'. Adding certificate verification is strongly advised. See: https://urllib3.readthedocs.io/en/1.26.x/advanced-usage.html#ssl-warnings\n",
      "  warnings.warn(\n",
      "/home/yqiao/anaconda3/envs/RDKit/lib/python3.10/site-packages/urllib3/connectionpool.py:1045: InsecureRequestWarning: Unverified HTTPS request is being made to host 'linux-vm'. Adding certificate verification is strongly advised. See: https://urllib3.readthedocs.io/en/1.26.x/advanced-usage.html#ssl-warnings\n",
      "  warnings.warn(\n"
     ]
    }
   ],
   "source": [
    "next_page = DataRecordPojoPageCriteria(page_size=10)\n",
    "for i in range(3):\n",
    "    result = dataRecordManager.query_all_records_of_type(\"Sample\", next_page)\n",
    "    next_page = result.next_page_criteria\n",
    "    print(\"Page \" + str(i + 1) + \": \" + str(result))\n",
    "    if not result.is_next_page_available:\n",
    "        break"
   ],
   "metadata": {
    "collapsed": false,
    "pycharm": {
     "name": "#%%\n"
    }
   }
  },
  {
   "cell_type": "markdown",
   "source": [
    "query_system_for_record returns either the DataRecordPojo when it finds a record, or a \"None\" object if it's not found."
   ],
   "metadata": {
    "collapsed": false,
    "pycharm": {
     "name": "#%% md\n"
    }
   }
  },
  {
   "cell_type": "code",
   "execution_count": 5,
   "outputs": [
    {
     "name": "stdout",
     "output_type": "stream",
     "text": [
      "Root Directory\n",
      "None\n"
     ]
    },
    {
     "name": "stderr",
     "output_type": "stream",
     "text": [
      "/home/yqiao/anaconda3/envs/RDKit/lib/python3.10/site-packages/urllib3/connectionpool.py:1045: InsecureRequestWarning: Unverified HTTPS request is being made to host 'linux-vm'. Adding certificate verification is strongly advised. See: https://urllib3.readthedocs.io/en/1.26.x/advanced-usage.html#ssl-warnings\n",
      "  warnings.warn(\n",
      "/home/yqiao/anaconda3/envs/RDKit/lib/python3.10/site-packages/urllib3/connectionpool.py:1045: InsecureRequestWarning: Unverified HTTPS request is being made to host 'linux-vm'. Adding certificate verification is strongly advised. See: https://urllib3.readthedocs.io/en/1.26.x/advanced-usage.html#ssl-warnings\n",
      "  warnings.warn(\n"
     ]
    }
   ],
   "source": [
    "result = dataRecordManager.query_system_for_record('Directory', 1)\n",
    "print(result)\n",
    "result = dataRecordManager.query_system_for_record('Directory', 1000000)\n",
    "print(result)"
   ],
   "metadata": {
    "collapsed": false,
    "pycharm": {
     "name": "#%%\n"
    }
   }
  },
  {
   "cell_type": "markdown",
   "source": [
    "You can get parents and children of the records.\n",
    "The easiest form is to take a single record and get children of that.\n",
    "\n",
    "In this example, we find one FCS file and try to get its parent sample."
   ],
   "metadata": {
    "collapsed": false,
    "pycharm": {
     "name": "#%% md\n"
    }
   }
  },
  {
   "cell_type": "code",
   "execution_count": 6,
   "outputs": [
    {
     "name": "stdout",
     "output_type": "stream",
     "text": [
      "000004\n"
     ]
    },
    {
     "name": "stderr",
     "output_type": "stream",
     "text": [
      "/home/yqiao/anaconda3/envs/RDKit/lib/python3.10/site-packages/urllib3/connectionpool.py:1045: InsecureRequestWarning: Unverified HTTPS request is being made to host 'linux-vm'. Adding certificate verification is strongly advised. See: https://urllib3.readthedocs.io/en/1.26.x/advanced-usage.html#ssl-warnings\n",
      "  warnings.warn(\n",
      "/home/yqiao/anaconda3/envs/RDKit/lib/python3.10/site-packages/urllib3/connectionpool.py:1045: InsecureRequestWarning: Unverified HTTPS request is being made to host 'linux-vm'. Adding certificate verification is strongly advised. See: https://urllib3.readthedocs.io/en/1.26.x/advanced-usage.html#ssl-warnings\n",
      "  warnings.warn(\n"
     ]
    }
   ],
   "source": [
    "fcs_result = dataRecordManager.query_all_records_of_type(\"FCSFile\", DataRecordPojoPageCriteria(page_size=1))\n",
    "if len(fcs_result.result_list) > 0:\n",
    "    fcs_record = fcs_result.result_list[0]\n",
    "    parents = dataRecordManager.get_parents(fcs_record.get_record_id(), \"FCSFile\", \"Sample\")\n",
    "    if len(parents.result_list) > 0:\n",
    "        parent_sample = parents.result_list[0]\n",
    "        print(parent_sample)"
   ],
   "metadata": {
    "collapsed": false,
    "pycharm": {
     "name": "#%%\n"
    }
   }
  },
  {
   "cell_type": "markdown",
   "source": [
    "In a slightly more complex case, we will be using a batch call to retrieve parents of multiple FCS children at once.\n",
    "\n",
    "It is often much faster to use batch call than calling records in a loop. This will reduce the HTTP and remote overhead.\n",
    "\n",
    "The result object is slightly different. To demonstrate paging in this situation, we will try to have a page of 10 on parents, for first five pages of parents for first 100 FCS records.\n",
    "Note: Since each FCS record has a parent, this will not complete the entire query. The remaining pages will simply never be computed nor returned here."
   ],
   "metadata": {
    "collapsed": false,
    "pycharm": {
     "name": "#%% md\n"
    }
   }
  },
  {
   "cell_type": "code",
   "execution_count": 2,
   "outputs": [
    {
     "name": "stdout",
     "output_type": "stream",
     "text": [
      "Page 1\n",
      "export_COVID19 samples 21_04_20_ST3_COVID19_ICU_031_A ST3 21... -> [000004]\n",
      "export_COVID19 samples 23_04_20_ST3_COVID19_ICU_025_A ST3 23... -> [000005]\n",
      "export_COVID19 samples 23_04_20_ST3_COVID19_ICU_003_A ST3 23... -> [000006]\n",
      "export_COVID19 samples 23_04_20_ST3_COVID19_ICU_003_A ST3 23... -> [000007 export_COVID19 samples 23_04_20_ST3_COVID19_ICU_003_A...]\n"
     ]
    },
    {
     "name": "stderr",
     "output_type": "stream",
     "text": [
      "/home/yqiao/anaconda3/envs/RDKit/lib/python3.10/site-packages/urllib3/connectionpool.py:1045: InsecureRequestWarning: Unverified HTTPS request is being made to host 'linux-vm'. Adding certificate verification is strongly advised. See: https://urllib3.readthedocs.io/en/1.26.x/advanced-usage.html#ssl-warnings\n",
      "  warnings.warn(\n",
      "/home/yqiao/anaconda3/envs/RDKit/lib/python3.10/site-packages/urllib3/connectionpool.py:1045: InsecureRequestWarning: Unverified HTTPS request is being made to host 'linux-vm'. Adding certificate verification is strongly advised. See: https://urllib3.readthedocs.io/en/1.26.x/advanced-usage.html#ssl-warnings\n",
      "  warnings.warn(\n"
     ]
    }
   ],
   "source": [
    "fcs_result = dataRecordManager.query_all_records_of_type(\"FCSFile\", DataRecordPojoPageCriteria(page_size=100))\n",
    "samples = list()\n",
    "if len(fcs_result.result_list) > 0:\n",
    "    fcs_record_id_list = [x.get_record_id() for x in fcs_result.result_list]\n",
    "    fcs_record_by_record_id = dict((x.get_record_id(), x) for x in fcs_result.result_list)\n",
    "    next_parent_page_criteria = DataRecordPojoHierarchyPageCriteria(page_size=10)\n",
    "    for i in range(5):\n",
    "        print(\"Page \" + str(i + 1))\n",
    "        parents = dataRecordManager.get_parents_list(fcs_record_id_list, \"FCSFile\", \"Sample\", next_parent_page_criteria)\n",
    "        next_parent_page_criteria = parents.next_page_criteria\n",
    "        for source_record_id, result_records in parents.result_map.items():\n",
    "            if result_records is None or len(result_records) == 0:\n",
    "                continue\n",
    "            fcs_record = fcs_record_by_record_id.get(source_record_id)\n",
    "            samples.extend(result_records)\n",
    "            if fcs_record is not None:\n",
    "                print(str(fcs_record) + \" -> [\" + ', '.join([str(x) for x in result_records]) + \"]\")\n",
    "        if not parents.is_next_page_available:\n",
    "            break"
   ],
   "metadata": {
    "collapsed": false,
    "pycharm": {
     "name": "#%%\n"
    }
   }
  },
  {
   "cell_type": "markdown",
   "source": [
    "You can translate data in a list of data records into a pandas data frame, which can be used by external tools!"
   ],
   "metadata": {
    "collapsed": false,
    "pycharm": {
     "name": "#%% md\n"
    }
   }
  },
  {
   "cell_type": "code",
   "execution_count": 4,
   "outputs": [
    {
     "data": {
      "text/plain": "  ObservedCondition MultiParentLink234  \\\n0                                 None   \n1                                 None   \n2                                 None   \n3                                 None   \n\n                                       OtherSampleId ActiveWorkflowId  \\\n0                                                                None   \n1                                                                None   \n2                                                                None   \n3  export_COVID19 samples 23_04_20_ST3_COVID19_IC...             None   \n\n  SacrificedDate RelatedNotebookExperiment RelatedRecord170 SampleId  \\\n0           None                      None             None   000004   \n1           None                      None             None   000005   \n2           None                      None             None   000006   \n3           None                      None             None   000007   \n\n  StorageLocationBarcode Organism CreatedBy RelatedRecord146  \\\n0                                   sdmsapi             None   \n1                                   sdmsapi             None   \n2                                   sdmsapi             None   \n3                                   sdmsapi             None   \n\n  CollectionDateTime ElnbNumber  IsControl PercentRecoveries  \\\n0               None                 False              None   \n1               None                 False              None   \n2               None                 False              None   \n3               None                 False              None   \n\n                                      DataRecordName Volume  \\\n0                                             000004   None   \n1                                             000005   None   \n2                                             000006   None   \n3  000007 export_COVID19 samples 23_04_20_ST3_COV...   None   \n\n  ExemplarSampleType RelatedChild123 ControlType RelatedRecord181 TotalMass  \\\n0                               None                         None      None   \n1                               None                         None      None   \n2     Flow Cytometry            None                         None      None   \n3     Flow Cytometry            None                         None      None   \n\n  ConcentrationUnits RelatedRecord180 CollectionDate RelatedRecord112  \\\n0              ng/uL             None           None             None   \n1              ng/uL             None           None             None   \n2              ng/uL             None           None             None   \n3              ng/uL             None           None             None   \n\n  RelatedRecord111 RelatedRecord199 RelatedRecord110 TubeBarcode  \\\n0             None             None             None               \n1             None             None             None               \n2             None             None             None               \n3             None             None             None               \n\n     DateCreated MultiParentLink176 RelatedRecord119  IsPooled RowPosition  \\\n0  1663688244010               None             None     False               \n1  1663688248670               None             None     False               \n2  1663688707312               None             None     False               \n3  1663693730249               None             None     False               \n\n  ColPosition VeloxLastModifiedBy  RecordId ExemplarSampleStatus  \\\n0                         sdmsapi       130                        \n1                         sdmsapi       132                        \n2                         sdmsapi       169                        \n3                         sdmsapi       171                        \n\n  MultiParentLink247 VolumeUnits RelatedRecord168 RelatedRecord200 Comments  \\\n0               None                         None             None            \n1               None                         None             None            \n2               None                         None             None            \n3               None                         None             None            \n\n  ContainerType PreviousExemplarStatus TimePoint Concentration Flags  \\\n0                                           None          None         \n1                                           None          None         \n2                                           None          None         \n3                                           None          None         \n\n  RelatedPlate MultiParentLink243 RelatedRecord208 StorageUnitPath  \\\n0                            None             None                   \n1                            None             None                   \n2                            None             None                   \n3                            None             None                   \n\n  SapioSingleTemplateProcess LastEditedBy AssayType  VeloxLastModifiedDate  \\\n0                                                            1663688244522   \n1                                                            1663688248737   \n2                                                            1663688707708   \n3                                                            1663693730582   \n\n  PlateId RelatedChild149 TatProgressStatus  IsInvalid  \n0                    None                        False  \n1                    None                        False  \n2                    None                        False  \n3                    None                        False  ",
      "text/html": "<div>\n<style scoped>\n    .dataframe tbody tr th:only-of-type {\n        vertical-align: middle;\n    }\n\n    .dataframe tbody tr th {\n        vertical-align: top;\n    }\n\n    .dataframe thead th {\n        text-align: right;\n    }\n</style>\n<table border=\"1\" class=\"dataframe\">\n  <thead>\n    <tr style=\"text-align: right;\">\n      <th></th>\n      <th>ObservedCondition</th>\n      <th>MultiParentLink234</th>\n      <th>OtherSampleId</th>\n      <th>ActiveWorkflowId</th>\n      <th>SacrificedDate</th>\n      <th>RelatedNotebookExperiment</th>\n      <th>RelatedRecord170</th>\n      <th>SampleId</th>\n      <th>StorageLocationBarcode</th>\n      <th>Organism</th>\n      <th>CreatedBy</th>\n      <th>RelatedRecord146</th>\n      <th>CollectionDateTime</th>\n      <th>ElnbNumber</th>\n      <th>IsControl</th>\n      <th>PercentRecoveries</th>\n      <th>DataRecordName</th>\n      <th>Volume</th>\n      <th>ExemplarSampleType</th>\n      <th>RelatedChild123</th>\n      <th>ControlType</th>\n      <th>RelatedRecord181</th>\n      <th>TotalMass</th>\n      <th>ConcentrationUnits</th>\n      <th>RelatedRecord180</th>\n      <th>CollectionDate</th>\n      <th>RelatedRecord112</th>\n      <th>RelatedRecord111</th>\n      <th>RelatedRecord199</th>\n      <th>RelatedRecord110</th>\n      <th>TubeBarcode</th>\n      <th>DateCreated</th>\n      <th>MultiParentLink176</th>\n      <th>RelatedRecord119</th>\n      <th>IsPooled</th>\n      <th>RowPosition</th>\n      <th>ColPosition</th>\n      <th>VeloxLastModifiedBy</th>\n      <th>RecordId</th>\n      <th>ExemplarSampleStatus</th>\n      <th>MultiParentLink247</th>\n      <th>VolumeUnits</th>\n      <th>RelatedRecord168</th>\n      <th>RelatedRecord200</th>\n      <th>Comments</th>\n      <th>ContainerType</th>\n      <th>PreviousExemplarStatus</th>\n      <th>TimePoint</th>\n      <th>Concentration</th>\n      <th>Flags</th>\n      <th>RelatedPlate</th>\n      <th>MultiParentLink243</th>\n      <th>RelatedRecord208</th>\n      <th>StorageUnitPath</th>\n      <th>SapioSingleTemplateProcess</th>\n      <th>LastEditedBy</th>\n      <th>AssayType</th>\n      <th>VeloxLastModifiedDate</th>\n      <th>PlateId</th>\n      <th>RelatedChild149</th>\n      <th>TatProgressStatus</th>\n      <th>IsInvalid</th>\n    </tr>\n  </thead>\n  <tbody>\n    <tr>\n      <th>0</th>\n      <td></td>\n      <td>None</td>\n      <td></td>\n      <td>None</td>\n      <td>None</td>\n      <td>None</td>\n      <td>None</td>\n      <td>000004</td>\n      <td></td>\n      <td></td>\n      <td>sdmsapi</td>\n      <td>None</td>\n      <td>None</td>\n      <td></td>\n      <td>False</td>\n      <td>None</td>\n      <td>000004</td>\n      <td>None</td>\n      <td></td>\n      <td>None</td>\n      <td></td>\n      <td>None</td>\n      <td>None</td>\n      <td>ng/uL</td>\n      <td>None</td>\n      <td>None</td>\n      <td>None</td>\n      <td>None</td>\n      <td>None</td>\n      <td>None</td>\n      <td></td>\n      <td>1663688244010</td>\n      <td>None</td>\n      <td>None</td>\n      <td>False</td>\n      <td></td>\n      <td></td>\n      <td>sdmsapi</td>\n      <td>130</td>\n      <td></td>\n      <td>None</td>\n      <td></td>\n      <td>None</td>\n      <td>None</td>\n      <td></td>\n      <td></td>\n      <td></td>\n      <td>None</td>\n      <td>None</td>\n      <td></td>\n      <td></td>\n      <td>None</td>\n      <td>None</td>\n      <td></td>\n      <td></td>\n      <td></td>\n      <td></td>\n      <td>1663688244522</td>\n      <td></td>\n      <td>None</td>\n      <td></td>\n      <td>False</td>\n    </tr>\n    <tr>\n      <th>1</th>\n      <td></td>\n      <td>None</td>\n      <td></td>\n      <td>None</td>\n      <td>None</td>\n      <td>None</td>\n      <td>None</td>\n      <td>000005</td>\n      <td></td>\n      <td></td>\n      <td>sdmsapi</td>\n      <td>None</td>\n      <td>None</td>\n      <td></td>\n      <td>False</td>\n      <td>None</td>\n      <td>000005</td>\n      <td>None</td>\n      <td></td>\n      <td>None</td>\n      <td></td>\n      <td>None</td>\n      <td>None</td>\n      <td>ng/uL</td>\n      <td>None</td>\n      <td>None</td>\n      <td>None</td>\n      <td>None</td>\n      <td>None</td>\n      <td>None</td>\n      <td></td>\n      <td>1663688248670</td>\n      <td>None</td>\n      <td>None</td>\n      <td>False</td>\n      <td></td>\n      <td></td>\n      <td>sdmsapi</td>\n      <td>132</td>\n      <td></td>\n      <td>None</td>\n      <td></td>\n      <td>None</td>\n      <td>None</td>\n      <td></td>\n      <td></td>\n      <td></td>\n      <td>None</td>\n      <td>None</td>\n      <td></td>\n      <td></td>\n      <td>None</td>\n      <td>None</td>\n      <td></td>\n      <td></td>\n      <td></td>\n      <td></td>\n      <td>1663688248737</td>\n      <td></td>\n      <td>None</td>\n      <td></td>\n      <td>False</td>\n    </tr>\n    <tr>\n      <th>2</th>\n      <td></td>\n      <td>None</td>\n      <td></td>\n      <td>None</td>\n      <td>None</td>\n      <td>None</td>\n      <td>None</td>\n      <td>000006</td>\n      <td></td>\n      <td></td>\n      <td>sdmsapi</td>\n      <td>None</td>\n      <td>None</td>\n      <td></td>\n      <td>False</td>\n      <td>None</td>\n      <td>000006</td>\n      <td>None</td>\n      <td>Flow Cytometry</td>\n      <td>None</td>\n      <td></td>\n      <td>None</td>\n      <td>None</td>\n      <td>ng/uL</td>\n      <td>None</td>\n      <td>None</td>\n      <td>None</td>\n      <td>None</td>\n      <td>None</td>\n      <td>None</td>\n      <td></td>\n      <td>1663688707312</td>\n      <td>None</td>\n      <td>None</td>\n      <td>False</td>\n      <td></td>\n      <td></td>\n      <td>sdmsapi</td>\n      <td>169</td>\n      <td></td>\n      <td>None</td>\n      <td></td>\n      <td>None</td>\n      <td>None</td>\n      <td></td>\n      <td></td>\n      <td></td>\n      <td>None</td>\n      <td>None</td>\n      <td></td>\n      <td></td>\n      <td>None</td>\n      <td>None</td>\n      <td></td>\n      <td></td>\n      <td></td>\n      <td></td>\n      <td>1663688707708</td>\n      <td></td>\n      <td>None</td>\n      <td></td>\n      <td>False</td>\n    </tr>\n    <tr>\n      <th>3</th>\n      <td></td>\n      <td>None</td>\n      <td>export_COVID19 samples 23_04_20_ST3_COVID19_IC...</td>\n      <td>None</td>\n      <td>None</td>\n      <td>None</td>\n      <td>None</td>\n      <td>000007</td>\n      <td></td>\n      <td></td>\n      <td>sdmsapi</td>\n      <td>None</td>\n      <td>None</td>\n      <td></td>\n      <td>False</td>\n      <td>None</td>\n      <td>000007 export_COVID19 samples 23_04_20_ST3_COV...</td>\n      <td>None</td>\n      <td>Flow Cytometry</td>\n      <td>None</td>\n      <td></td>\n      <td>None</td>\n      <td>None</td>\n      <td>ng/uL</td>\n      <td>None</td>\n      <td>None</td>\n      <td>None</td>\n      <td>None</td>\n      <td>None</td>\n      <td>None</td>\n      <td></td>\n      <td>1663693730249</td>\n      <td>None</td>\n      <td>None</td>\n      <td>False</td>\n      <td></td>\n      <td></td>\n      <td>sdmsapi</td>\n      <td>171</td>\n      <td></td>\n      <td>None</td>\n      <td></td>\n      <td>None</td>\n      <td>None</td>\n      <td></td>\n      <td></td>\n      <td></td>\n      <td>None</td>\n      <td>None</td>\n      <td></td>\n      <td></td>\n      <td>None</td>\n      <td>None</td>\n      <td></td>\n      <td></td>\n      <td></td>\n      <td></td>\n      <td>1663693730582</td>\n      <td></td>\n      <td>None</td>\n      <td></td>\n      <td>False</td>\n    </tr>\n  </tbody>\n</table>\n</div>"
     },
     "metadata": {},
     "output_type": "display_data"
    }
   ],
   "source": [
    "import pandas as pd\n",
    "pd.set_option('display.max_columns', 100)\n",
    "samples_data_frame = dataRecordManager.get_data_frame(samples)\n",
    "display(samples_data_frame)"
   ],
   "metadata": {
    "collapsed": false,
    "pycharm": {
     "name": "#%%\n"
    }
   }
  }
 ],
 "metadata": {
  "kernelspec": {
   "display_name": "Python 3",
   "language": "python",
   "name": "python3"
  },
  "language_info": {
   "codemirror_mode": {
    "name": "ipython",
    "version": 2
   },
   "file_extension": ".py",
   "mimetype": "text/x-python",
   "name": "python",
   "nbconvert_exporter": "python",
   "pygments_lexer": "ipython2",
   "version": "2.7.6"
  }
 },
 "nbformat": 4,
 "nbformat_minor": 0
}